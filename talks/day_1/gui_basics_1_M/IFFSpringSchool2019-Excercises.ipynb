{
 "cells": [
  {
   "cell_type": "markdown",
   "metadata": {},
   "source": [
    "<h1><center> Simulating neutron scattering from silicon nano-dots on a silicon substrate </center></h1>"
   ]
  },
  {
   "cell_type": "code",
   "execution_count": 10,
   "metadata": {},
   "outputs": [
    {
     "data": {
      "text/html": [
       "<script>\n",
       "code_show=true; \n",
       "function code_toggle() {\n",
       " if (code_show){\n",
       " $('div.input').hide();\n",
       " } else {\n",
       " $('div.input').show();\n",
       " }\n",
       " code_show = !code_show\n",
       "} \n",
       "$( document ).ready(code_toggle);\n",
       "</script>\n",
       "<a href=\"javascript:code_toggle()\">Toggle Show Solutions</a>."
      ],
      "text/plain": [
       "<IPython.core.display.HTML object>"
      ]
     },
     "execution_count": 10,
     "metadata": {},
     "output_type": "execute_result"
    }
   ],
   "source": [
    "from IPython.display import HTML\n",
    "def toggle_code_cells():\n",
    "    return '''<script>\n",
    "code_show=true; \n",
    "function code_toggle() {\n",
    " if (code_show){\n",
    " $('div.input').hide();\n",
    " } else {\n",
    " $('div.input').show();\n",
    " }\n",
    " code_show = !code_show\n",
    "} \n",
    "$( document ).ready(code_toggle);\n",
    "</script>\n",
    "<a href=\"javascript:code_toggle()\">Toggle Show Solutions</a>.'''\n",
    "HTML(toggle_code_cells())"
   ]
  },
  {
   "cell_type": "markdown",
   "metadata": {},
   "source": [
    "## 1. Instrument setup: GALAXI\n",
    "\n",
    "[GALAXI](http://dx.doi.org/10.17815/jlsrf-2-109) is the high brilliance laboratory small angle X-ray scattering instrument operated by JCNS, Forschungszentrum Jülich.\n",
    "\n",
    "<img src=\"img/rectangular_detector_genpos.png\" alt=\"Rectangular detector\" style=\"width: 400px;\"/>\n",
    "\n",
    "**GALAXI beam parameters**\n",
    "* `Intensity` $I = 10^6$ photons\n",
    "* X-ray `Wavelength` $\\lambda = 1.34 \\overset{\\circ}{\\text A}$\n",
    "* `Inclination angle` $\\alpha_i = 0.2^{\\circ}$\n",
    "* `Azimuthal angle` $\\phi_i = 0.0^{\\circ}$\n",
    "* No beam divergence\n",
    "\n",
    "**GALAXI detector parameters**\n",
    "\n",
    "* Rectangular detector of size ($x\\times y$) = ($981\\times 1043$) pixels \n",
    "* Pixel size $172\\mu m$\n",
    "* Direct beam center $(x, y) = (600, 350)$ pixels\n",
    "* Distance from sample to detector $3532$ mm\n",
    "* Detector is aligned perpendicular to the direct beam.\n",
    "* No resolution function, no background\n",
    "\n",
    "### Bonus: beam divergence\n",
    "\n",
    "* $\\sigma_{\\alpha_i}=0.007^\\circ$\n",
    "* $\\sigma_{\\phi_i}=0.007^\\circ$\n",
    "* Gaussian distribution.\n",
    "* Play with the `Distribution` widget, vary the distribution parameters and observe changes.\n",
    "\n",
    "### Bonus: resolution function\n",
    "\n",
    "* Set a gaussian resolution function with $\\sigma = 0.073$ for both $X$ and $Y$ directions --This corresponds to a FWHM equal to the detector pixel size."
   ]
  },
  {
   "cell_type": "code",
   "execution_count": 9,
   "metadata": {},
   "outputs": [
    {
     "data": {
      "text/html": [
       "<script>\n",
       "code_show=true; \n",
       "function code_toggle() {\n",
       " if (code_show){\n",
       " $('div.input').hide();\n",
       " } else {\n",
       " $('div.input').show();\n",
       " }\n",
       " code_show = !code_show\n",
       "} \n",
       "$( document ).ready(code_toggle);\n",
       "</script>\n",
       "<a href=\"javascript:code_toggle()\">Toggle Show Solutions</a>."
      ],
      "text/plain": [
       "<IPython.core.display.HTML object>"
      ]
     },
     "execution_count": 9,
     "metadata": {},
     "output_type": "execute_result"
    }
   ],
   "source": [
    "HTML(toggle_code_cells())\n",
    "#Pay attention, `Wavelength` must be given in **nm**. Thus, $\\lambda = 0.134$ nm.\n",
    "#print(\"Width = \", 981 * 0.172, \"mm\")\n",
    "#print(\"Height = \", 1043 * 0.172, \"mm\")\n",
    "#print (\"u0 = \", round(600 * 0.172, 2), \"mm\")\n",
    "#print(\"v0 = \", round(350 * 0.172, 2), \"mm\")\n",
    "#>> lambda = 0.134 nm\n",
    "#>> Width = 168.732 mm\n",
    "#>> Height = 179.396 mm\n",
    "#>> u0 = 103.2 mm\n",
    "#>> v0 = 60.2 mm"
   ]
  },
  {
   "cell_type": "markdown",
   "metadata": {},
   "source": [
    "## 2. Silicon nano-dots on silicon substrate\n",
    "\n",
    "* Create a sample made of Si cuboids on a Si substrate:\n",
    "  * Use box particles of $30 \\times 20 \\times 10 \\, {\\rm nm}$\n",
    "  * Set the refractive index to: $(\\delta, \\beta) = (5.78 \\times 10^{-6}, 1.02 \\times 10^{-7})$\n",
    "* Ingore interference function.\n",
    "\n",
    "![Si nanodots](img/si_np.png)"
   ]
  },
  {
   "cell_type": "code",
   "execution_count": 5,
   "metadata": {},
   "outputs": [
    {
     "data": {
      "text/html": [
       "<script>\n",
       "code_show=true; \n",
       "function code_toggle() {\n",
       " if (code_show){\n",
       " $('div.input').hide();\n",
       " } else {\n",
       " $('div.input').show();\n",
       " }\n",
       " code_show = !code_show\n",
       "} \n",
       "$( document ).ready(code_toggle);\n",
       "</script>\n",
       "<a href=\"javascript:code_toggle()\">Toggle Show Solutions</a>."
      ],
      "text/plain": [
       "<IPython.core.display.HTML object>"
      ]
     },
     "execution_count": 5,
     "metadata": {},
     "output_type": "execute_result"
    }
   ],
   "source": [
    "HTML(toggle_code_cells())\n",
    "## Place the box particles:\n",
    "\n",
    "#1. Drag and drop the Multilayer.\n",
    "#2. Drag 2 layers and drop them on the Multilayer.\n",
    "#3. Drag and drop a \"Basic particle layout\" and connect it to the upper layer.\n",
    "#4. Drag and drop a box-particle item and connect it to the \"Particle layout\".\n",
    "\n",
    "# Set the materials (refractive indices)\n",
    "\n",
    "#5. Click on the bottom layer to select it. On the right panel double-click on \"Material\".\n",
    "#6. Create a new material, \"Si\", with the corresponding (delta, beta). Use **Refractive index based** material.\n",
    "#7. Select \"Si\" to be the substrate material \n",
    "#8. Click on \"Particle\" and set it's material to \"Si\" too.\n",
    "\n",
    "# Set the dimensions of the particles:\n",
    "\n",
    "#9. Set the particle length to 30 nm, width to 20 nm and height to 10 nm."
   ]
  },
  {
   "cell_type": "markdown",
   "metadata": {},
   "source": [
    "## 3. Run simulation\n",
    "\n",
    "1. Simulate the experiment. \n",
    "\n",
    "2. Change the plot units to $q$ and set $Q_z$ to start from 0; save as png.\n",
    "\n",
    "3. Take the Fourier transform; save as a png.\n",
    "\n",
    "4. Make an horizontal slice at $Q_z=0.4$ and save it as a text file.\n",
    "\n",
    "5. Make a vertical slice at $Q_y=0$. Save it as a text file.\n",
    "\n",
    "6. Switch to `Real time activity` and vary the length, width, and height of the particles. How does the simulated pattern change?"
   ]
  },
  {
   "cell_type": "code",
   "execution_count": null,
   "metadata": {},
   "outputs": [],
   "source": [
    "#1. Click `Run Simulation` button in `Simulation view`. \n",
    "\n",
    "#2. Within the Job-View, go to `Properties`->`Axes Units`->`q-space`. Set the y min to zero.\n",
    "\n",
    "#3. Click `Fourier` button on the top panel.\n",
    "\n",
    "#4. Switch to `Projections` view in the top right corner. \n",
    "#Choose the horizontal line on the right panel and place it at $Q_z=0.4$. \n",
    "#Click to the floppy disk to save projection to a text file. The result should look as shown below.\n",
    "\n",
    "#4. Choose the vertical line on the right panel to create a vertical projection. Position it at $Q_y=0$. Click to the floppy disk to save projection to a text file. The result should look as shown below.\n",
    "\n",
    "#5. Switch to the `Real Time Activity` in the right bottom corner. Vary the sample parameters."
   ]
  },
  {
   "cell_type": "code",
   "execution_count": null,
   "metadata": {},
   "outputs": [],
   "source": []
  }
 ],
 "metadata": {
  "kernelspec": {
   "display_name": "Python 3",
   "language": "python",
   "name": "python3"
  },
  "language_info": {
   "codemirror_mode": {
    "name": "ipython",
    "version": 3
   },
   "file_extension": ".py",
   "mimetype": "text/x-python",
   "name": "python",
   "nbconvert_exporter": "python",
   "pygments_lexer": "ipython3",
   "version": "3.6.6"
  }
 },
 "nbformat": 4,
 "nbformat_minor": 2
}
