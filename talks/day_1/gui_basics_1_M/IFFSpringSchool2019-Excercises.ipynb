{
 "cells": [
  {
   "cell_type": "code",
   "execution_count": 5,
   "metadata": {},
   "outputs": [
    {
     "data": {
      "text/html": [
       "<script>\n",
       "code_show=true; \n",
       "function code_toggle() {\n",
       " if (code_show){\n",
       " $('div.input').hide();\n",
       " } else {\n",
       " $('div.input').show();\n",
       " }\n",
       " code_show = !code_show\n",
       "} \n",
       "$( document ).ready(code_toggle);\n",
       "</script>\n",
       "<a href=\"javascript:code_toggle()\">Toggle Show Solutions</a>."
      ],
      "text/plain": [
       "<IPython.core.display.HTML object>"
      ]
     },
     "execution_count": 5,
     "metadata": {},
     "output_type": "execute_result"
    }
   ],
   "source": [
    "from IPython.display import HTML\n",
    "def toggle_code_cells():\n",
    "    return '''<script>\n",
    "code_show=true; \n",
    "function code_toggle() {\n",
    " if (code_show){\n",
    " $('div.input').hide();\n",
    " } else {\n",
    " $('div.input').show();\n",
    " }\n",
    " code_show = !code_show\n",
    "} \n",
    "$( document ).ready(code_toggle);\n",
    "</script>\n",
    "<a href=\"javascript:code_toggle()\">Toggle Show Solutions</a>.'''\n",
    "HTML(toggle_code_cells())"
   ]
  },
  {
   "cell_type": "markdown",
   "metadata": {},
   "source": [
    "## Exercise 1: GALAXI instrument setup\n",
    "\n",
    "[GALAXI](http://dx.doi.org/10.17815/jlsrf-2-109) is the high brilliance laboratory small angle X-ray scattering instrument operated by JCNS, Forschungszentrum Jülich.\n",
    "\n",
    "**GALAXI beam parameters**\n",
    "* `Intensity` $I = 10^6$ photons\n",
    "* X-ray `Wavelength` $\\lambda = 1.34 \\overset{\\circ}{\\text A}$\n",
    "* `Inclination angle` $\\alpha_i = 0.2^{\\circ}$\n",
    "* `Azimuthal angle` $\\phi_i = 0.0^{\\circ}$\n",
    "* No beam divergence\n",
    "\n",
    "**GALAXI detector parameters**\n",
    "* Detector size $981\\times 1043$ pixels ($x\\times y$)\n",
    "* Pixel size $172\\mu m$\n",
    "* Direct beam center $(x, y) = (600, 350)$ pixels\n",
    "* Distance from sample to detector $3532$ mm\n",
    "* Detector is aligned perpendicular to the direct beam.\n",
    "* No resolution function, no background\n",
    "\n",
    "### Bonus: beam divergence\n",
    "\n",
    "* $\\Delta\\alpha_i=0.3$ mrad\n",
    "* $\\Delta\\phi_i=0.3$ mrad\n",
    "* Gaussian distribution.\n",
    "* Play with the `Distribution` widget, vary the distribution parameters and observe changes.\n",
    "\n",
    "N.B. `StdDev`$=\\sigma$ and $$\\text{FWHM}=2\\sqrt{2\\log 2}\\sigma\\approx 2.355\\sigma$$\n",
    "\n",
    "### Bonus: resolution function\n",
    "\n",
    "* Set the FWHM equal to the detector pixel size for both $X$ and $Y$ directions."
   ]
  },
  {
   "cell_type": "code",
   "execution_count": 6,
   "metadata": {},
   "outputs": [
    {
     "data": {
      "text/html": [
       "<script>\n",
       "code_show=true; \n",
       "function code_toggle() {\n",
       " if (code_show){\n",
       " $('div.input').hide();\n",
       " } else {\n",
       " $('div.input').show();\n",
       " }\n",
       " code_show = !code_show\n",
       "} \n",
       "$( document ).ready(code_toggle);\n",
       "</script>\n",
       "<a href=\"javascript:code_toggle()\">Toggle Show Solutions</a>."
      ],
      "text/plain": [
       "<IPython.core.display.HTML object>"
      ]
     },
     "execution_count": 6,
     "metadata": {},
     "output_type": "execute_result"
    }
   ],
   "source": [
    "HTML(toggle_code_cells())\n",
    "#Pay attention, `Wavelength` must be given in **nm**. Thus, $\\lambda = 0.134$ nm.\n",
    "#print(\"Width = \", 981 * 0.172, \" mm\")\n",
    "#print(\"Height = \", 1043 * 0.172, \" mm\")"
   ]
  },
  {
   "cell_type": "code",
   "execution_count": null,
   "metadata": {},
   "outputs": [],
   "source": []
  },
  {
   "cell_type": "code",
   "execution_count": null,
   "metadata": {},
   "outputs": [],
   "source": []
  },
  {
   "cell_type": "code",
   "execution_count": null,
   "metadata": {},
   "outputs": [],
   "source": []
  },
  {
   "cell_type": "code",
   "execution_count": null,
   "metadata": {},
   "outputs": [],
   "source": []
  },
  {
   "cell_type": "code",
   "execution_count": null,
   "metadata": {},
   "outputs": [],
   "source": []
  }
 ],
 "metadata": {
  "kernelspec": {
   "display_name": "Python 3",
   "language": "python",
   "name": "python3"
  },
  "language_info": {
   "codemirror_mode": {
    "name": "ipython",
    "version": 3
   },
   "file_extension": ".py",
   "mimetype": "text/x-python",
   "name": "python",
   "nbconvert_exporter": "python",
   "pygments_lexer": "ipython3",
   "version": "3.7.1"
  }
 },
 "nbformat": 4,
 "nbformat_minor": 2
}
